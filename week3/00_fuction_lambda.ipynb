{
 "cells": [
  {
   "cell_type": "code",
   "execution_count": 1,
   "metadata": {},
   "outputs": [
    {
     "name": "stdout",
     "output_type": "stream",
     "text": [
      "f(2)== 7\n",
      "f(5*2)== 15\n"
     ]
    }
   ],
   "source": [
    "f = lambda x : x + 5\n",
    "\n",
    "print(\"f(2)==\",f(2))\n",
    "print(\"f(5*2)==\",f(5*2))\n",
    "\n"
   ]
  },
  {
   "cell_type": "code",
   "execution_count": 2,
   "metadata": {},
   "outputs": [
    {
     "name": "stdout",
     "output_type": "stream",
     "text": [
      "f(2)== 4\n",
      "f(2+5)== 49\n",
      "f(5*2)== 100\n"
     ]
    }
   ],
   "source": [
    "f = lambda x : x + 5\n",
    "f = lambda x : x * x\n",
    "\n",
    "print(\"f(2)==\",f(2))\n",
    "print(\"f(2+5)==\",f(2+5))\n",
    "print(\"f(5*2)==\",f(5*2))"
   ]
  },
  {
   "cell_type": "code",
   "execution_count": 3,
   "metadata": {},
   "outputs": [
    {
     "name": "stdout",
     "output_type": "stream",
     "text": [
      "f(2)== 4\n",
      "f(2+5)== 49\n",
      "f(5*2)== 100\n"
     ]
    }
   ],
   "source": [
    "f = lambda x : x + 5\n",
    "f = lambda x : x*x\n",
    "\n",
    "print(\"f(2)==\",f(2))\n",
    "print(\"f(2+5)==\",f(2+5))\n",
    "print(\"f(5*2)==\",f(5*2))"
   ]
  },
  {
   "cell_type": "code",
   "execution_count": 4,
   "metadata": {},
   "outputs": [
    {
     "ename": "NameError",
     "evalue": "name 'f3' is not defined",
     "output_type": "error",
     "traceback": [
      "\u001b[0;31m---------------------------------------------------------------------------\u001b[0m",
      "\u001b[0;31mNameError\u001b[0m                                 Traceback (most recent call last)",
      "\u001b[0;32m<ipython-input-4-b4c4c2a33501>\u001b[0m in \u001b[0;36m<module>\u001b[0;34m\u001b[0m\n\u001b[0;32m----> 1\u001b[0;31m \u001b[0mf3\u001b[0m\u001b[0;34m\u001b[0m\u001b[0;34m\u001b[0m\u001b[0m\n\u001b[0m",
      "\u001b[0;31mNameError\u001b[0m: name 'f3' is not defined"
     ]
    }
   ],
   "source": [
    "f3\n"
   ]
  },
  {
   "cell_type": "code",
   "execution_count": 5,
   "metadata": {},
   "outputs": [
    {
     "ename": "SyntaxError",
     "evalue": "invalid syntax (<ipython-input-5-3798b0b5b0b5>, line 2)",
     "output_type": "error",
     "traceback": [
      "\u001b[0;36m  File \u001b[0;32m\"<ipython-input-5-3798b0b5b0b5>\"\u001b[0;36m, line \u001b[0;32m2\u001b[0m\n\u001b[0;31m    a++\u001b[0m\n\u001b[0m       ^\u001b[0m\n\u001b[0;31mSyntaxError\u001b[0m\u001b[0;31m:\u001b[0m invalid syntax\n"
     ]
    }
   ],
   "source": [
    "a = 3\n",
    "a++\n",
    "a"
   ]
  },
  {
   "cell_type": "code",
   "execution_count": 6,
   "metadata": {},
   "outputs": [
    {
     "name": "stdout",
     "output_type": "stream",
     "text": [
      "f(a + b)== 25\n",
      "f(a * b)== 36\n"
     ]
    }
   ],
   "source": [
    "f = lambda x : x*x\n",
    "\n",
    "a = 3\n",
    "b = 2\n",
    "\n",
    "print(\"f(a + b)==\",f(a + b))\n",
    "print(\"f(a * b)==\",f(a * b))"
   ]
  },
  {
   "cell_type": "code",
   "execution_count": null,
   "metadata": {},
   "outputs": [],
   "source": []
  }
 ],
 "metadata": {
  "kernelspec": {
   "display_name": "Python 3",
   "language": "python",
   "name": "python3"
  },
  "language_info": {
   "codemirror_mode": {
    "name": "ipython",
    "version": 3
   },
   "file_extension": ".py",
   "mimetype": "text/x-python",
   "name": "python",
   "nbconvert_exporter": "python",
   "pygments_lexer": "ipython3",
   "version": "3.7.6"
  }
 },
 "nbformat": 4,
 "nbformat_minor": 4
}
