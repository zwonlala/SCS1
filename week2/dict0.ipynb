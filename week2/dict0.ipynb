{
 "cells": [
  {
   "cell_type": "code",
   "execution_count": 6,
   "metadata": {},
   "outputs": [
    {
     "name": "stdout",
     "output_type": "stream",
     "text": [
      "score['KIM']== 90\n",
      "score== {'KIM': 90, 'LEE': 85, 'JUN': 95, 'HAN': 100}\n",
      "\n",
      "\n",
      "score key== dict_keys(['KIM', 'LEE', 'JUN', 'HAN'])\n",
      "score value== dict_values([90, 85, 95, 100])\n",
      "score items== dict_items([('KIM', 90), ('LEE', 85), ('JUN', 95), ('HAN', 100)])\n",
      "\n",
      "\n"
     ]
    }
   ],
   "source": [
    "score = {\"KIM\":90, \"LEE\":85, \"JUN\":95}\n",
    "# print(\"score['kim']==\",score['kim']) #dict key 값은 대소문자 구분하고 없는 값 요청하면 KeyError 남!\n",
    "\n",
    "print(\"score['KIM']==\",score['KIM'])\n",
    "\n",
    "score[\"HAN\"] = 100\n",
    "print(\"score==\", score) #이 케이스는 입력한 순서대로 HAN이 들어갔는데 원래 dict는 입력한 순서대로 출력 보장하지 않음!\n",
    "\n",
    "print()\n",
    "print()\n",
    "print(\"score key==\", score.keys()) #출력할때 list로 출력 & 그리고 dict_keys() 안에 출력\n",
    "print(\"score value==\", score.values())  #출력할때 list로 출력 & 그리고 dict_values() 안에 출력\n",
    "print(\"score items==\", score.items())  #출력할때 list로 출력 & 그리고 dict_items() 안에 출력\n",
    "\n",
    "print()\n",
    "print()\n",
    "# print(\"score[0:3]==\", score[0:2]) #dict는 sclice불가! TypeError 뜸\n",
    "# print(\"score[0]==\", score[0]) #dict는 특정 index로 접근 불가! KeyError 뜸 \n"
   ]
  },
  {
   "cell_type": "code",
   "execution_count": null,
   "metadata": {},
   "outputs": [],
   "source": []
  }
 ],
 "metadata": {
  "kernelspec": {
   "display_name": "Python 3",
   "language": "python",
   "name": "python3"
  },
  "language_info": {
   "codemirror_mode": {
    "name": "ipython",
    "version": 3
   },
   "file_extension": ".py",
   "mimetype": "text/x-python",
   "name": "python",
   "nbconvert_exporter": "python",
   "pygments_lexer": "ipython3",
   "version": "3.7.6"
  }
 },
 "nbformat": 4,
 "nbformat_minor": 4
}
