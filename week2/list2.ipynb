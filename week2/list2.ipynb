{
 "cells": [
  {
   "cell_type": "code",
   "execution_count": 2,
   "metadata": {},
   "outputs": [
    {
     "name": "stdout",
     "output_type": "stream",
     "text": [
      "c[0]== 100\n",
      "c[0]== 100\n",
      "c[1]== 200\n"
     ]
    }
   ],
   "source": [
    "c = []\n",
    "\n",
    "c.append(100)\n",
    "\n",
    "print(\"c[0]==\", c[0]) #특정 index의 값 출력하며 [] 없이 값만 출력\n",
    "# print(\"c[1]==\", c[1])\n",
    "\n",
    "c.append(200)\n",
    "\n",
    "print(\"c[0]==\", c[0])\n",
    "print(\"c[1]==\", c[1])"
   ]
  },
  {
   "cell_type": "code",
   "execution_count": 3,
   "metadata": {},
   "outputs": [
    {
     "name": "stdout",
     "output_type": "stream",
     "text": [
      "a[0:2]== [10, 20]\n",
      "a[1:]== [20, 30, 40, 50]\n",
      "a[:3]== [10, 20, 30]\n",
      "a[:-2]== [10, 20, 30]\n",
      "a[:]== [10, 20, 30, 40, 50]\n",
      "\n",
      "a[-1:-3]== []\n",
      "a[-3:-1]== [30, 40]\n",
      "\n",
      "a[-3:-3]== []\n",
      "\n",
      "a[:-6]== []\n",
      "a[:-5]== []\n",
      "\n",
      "a[-6:]== [10, 20, 30, 40, 50]\n",
      "a[ 0 :]== [10, 20, 30, 40, 50]\n",
      "a[ -1 :]== [50]\n",
      "a[ -2 :]== [40, 50]\n",
      "a[ -3 :]== [30, 40, 50]\n",
      "a[ -4 :]== [20, 30, 40, 50]\n",
      "a[ -5 :]== [10, 20, 30, 40, 50]\n",
      "a[ -6 :]== [10, 20, 30, 40, 50]\n",
      "a[ -7 :]== [10, 20, 30, 40, 50]\n"
     ]
    }
   ],
   "source": [
    "a = [10, 20, 30, 40, 50]\n",
    "\n",
    "print(\"a[0:2]==\", a[0:2])\n",
    "print(\"a[1:]==\", a[1:])\n",
    "print(\"a[:3]==\", a[:3])\n",
    "print(\"a[:-2]==\", a[:-2])\n",
    "print(\"a[:]==\", a[:])\n",
    "\n",
    "\n",
    "print()\n",
    "print(\"a[-1:-3]==\", a[-1:-3]) #slicing은 index 순서 바꿔 출력하면 출력 안함!\n",
    "print(\"a[-3:-1]==\", a[-3:-1])\n",
    "\n",
    "print()\n",
    "print(\"a[-3:-3]==\", a[-3:-3]) #slicing은 같은 index:index 하면 출력 안함!\n",
    "\n",
    "print()\n",
    "print(\"a[:-6]==\", a[:-6]) #slicing은 없는 인덱스에 접근해도 IndexError 안남!\n",
    "print(\"a[:-5]==\", a[:-5])\n",
    "\n",
    "print()\n",
    "print(\"a[-6:]==\", a[-6:])  #slicing은 없는 인덱스 부터 접근해도 존재하는 index는 출력함\n",
    "\n",
    "for i in range(8) :\n",
    "    print(\"a[\", -1 * i, \":]==\",a[-1*i:])\n"
   ]
  },
  {
   "cell_type": "code",
   "execution_count": null,
   "metadata": {},
   "outputs": [],
   "source": []
  }
 ],
 "metadata": {
  "kernelspec": {
   "display_name": "Python 3",
   "language": "python",
   "name": "python3"
  },
  "language_info": {
   "codemirror_mode": {
    "name": "ipython",
    "version": 3
   },
   "file_extension": ".py",
   "mimetype": "text/x-python",
   "name": "python",
   "nbconvert_exporter": "python",
   "pygments_lexer": "ipython3",
   "version": "3.7.6"
  }
 },
 "nbformat": 4,
 "nbformat_minor": 4
}
