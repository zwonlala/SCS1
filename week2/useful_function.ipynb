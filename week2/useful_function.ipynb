{
 "cells": [
  {
   "cell_type": "code",
   "execution_count": 14,
   "metadata": {},
   "outputs": [
    {
     "name": "stdout",
     "output_type": "stream",
     "text": [
      "[10, 20, 30, 40, 50]\n",
      "<class 'list'>\n",
      "5\n",
      "\n",
      "(10, 20, 30, 40, 50)\n",
      "<class 'tuple'>\n",
      "5\n",
      "\n",
      "{'KIM': 90, 'LEE': 80}\n",
      "<class 'dict'>\n",
      "2\n",
      "\n",
      "Seoul, Korea\n",
      "<class 'str'>\n",
      "12\n",
      "\n",
      "[[100, 200], [300, 400], [500, 600]]\n",
      "<class 'list'>\n",
      "3\n",
      "\n",
      "[[100, 200], True, 'I am SJW', [300, 400, 500, 600]]\n",
      "<class 'list'>\n",
      "4\n",
      "\n"
     ]
    }
   ],
   "source": [
    "a = [10, 20, 30, 40, 50]\n",
    "b = (10, 20, 30, 40 ,50)\n",
    "c = {\"KIM\":90, \"LEE\":80}\n",
    "d = \"Seoul, Korea\"\n",
    "e = [[100, 200], [300, 400], [500, 600]]\n",
    "f = [[100, 200], True, \"I am SJW\",  [300, 400, 500, 600]]\n",
    "\n",
    "print(a)\n",
    "print(type(a))\n",
    "print(len(a))\n",
    "print()\n",
    "\n",
    "print(b)\n",
    "print(type(b))\n",
    "print(len(b))\n",
    "print()\n",
    "\n",
    "print(c)\n",
    "print(type(c))\n",
    "print(len(c))\n",
    "print()\n",
    "\n",
    "print(d)\n",
    "print(type(d))\n",
    "print(len(d))\n",
    "print()\n",
    "\n",
    "print(e)\n",
    "print(type(e))\n",
    "print(len(e))\n",
    "print()\n",
    "\n",
    "print(f)\n",
    "print(type(f))\n",
    "print(len(f))\n",
    "print()"
   ]
  },
  {
   "cell_type": "code",
   "execution_count": 1,
   "metadata": {},
   "outputs": [
    {
     "name": "stdout",
     "output_type": "stream",
     "text": [
      "list(a)== ['H', 'e', 'l', 'l', 'o']\n",
      "b.keys()== dict_keys(['KIM', 'LEE'])\n",
      "b.values()== dict_values([90, 80])\n",
      "b.items()== dict_items([('KIM', 90), ('LEE', 80)])\n"
     ]
    }
   ],
   "source": [
    "a = \"Hello\" \n",
    "b = {\"KIM\":90, \"LEE\":80}\n",
    "\n",
    "print(\"list(a)==\", list(a))\n",
    "print(\"b.keys()==\", b.keys())\n",
    "print(\"b.values()==\",b.values())\n",
    "print(\"b.items()==\",b.items())\n"
   ]
  },
  {
   "cell_type": "code",
   "execution_count": null,
   "metadata": {},
   "outputs": [],
   "source": []
  }
 ],
 "metadata": {
  "kernelspec": {
   "display_name": "Python 3",
   "language": "python",
   "name": "python3"
  },
  "language_info": {
   "codemirror_mode": {
    "name": "ipython",
    "version": 3
   },
   "file_extension": ".py",
   "mimetype": "text/x-python",
   "name": "python",
   "nbconvert_exporter": "python",
   "pygments_lexer": "ipython3",
   "version": "3.7.6"
  }
 },
 "nbformat": 4,
 "nbformat_minor": 4
}
