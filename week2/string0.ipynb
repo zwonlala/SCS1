{
 "cells": [
  {
   "cell_type": "code",
   "execution_count": 10,
   "metadata": {},
   "outputs": [
    {
     "name": "stdout",
     "output_type": "stream",
     "text": [
      "7\n",
      "D\n",
      "A73, CD\n",
      "\n",
      "73, C\n",
      "A73, \n",
      "\n",
      "A73, CD12345\n",
      "A73, CD123\n"
     ]
    }
   ],
   "source": [
    "A = 'A73, CD'\n",
    "print(A[1]) #string에서 +,-index 접근 가능\n",
    "print(A[-1]) #string에서 +,-index 접근 가능\n",
    "print(A[:]) #string에서 sclicing 가능\n",
    "\n",
    "print()\n",
    "# print(A[-1:-6]) #string에서 sclicing 가능 but index 순서 반대로 하면 출력 X\n",
    "print(A[-6:-1]) #string에서 sclicing 가능\n",
    "print(A[-9:-2]) #string에서 sclicing 가능\n",
    "\n",
    "print()\n",
    "print(A+'12345')\n",
    "print(A+'12345'[-8:-2])//+로 연산한 문자열도 slicing 가능\n"
   ]
  },
  {
   "cell_type": "code",
   "execution_count": null,
   "metadata": {},
   "outputs": [],
   "source": []
  },
  {
   "cell_type": "code",
   "execution_count": null,
   "metadata": {},
   "outputs": [],
   "source": []
  }
 ],
 "metadata": {
  "kernelspec": {
   "display_name": "Python 3",
   "language": "python",
   "name": "python3"
  },
  "language_info": {
   "codemirror_mode": {
    "name": "ipython",
    "version": 3
   },
   "file_extension": ".py",
   "mimetype": "text/x-python",
   "name": "python",
   "nbconvert_exporter": "python",
   "pygments_lexer": "ipython3",
   "version": "3.7.6"
  }
 },
 "nbformat": 4,
 "nbformat_minor": 4
}
