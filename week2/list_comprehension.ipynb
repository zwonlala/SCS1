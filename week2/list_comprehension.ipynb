{
 "cells": [
  {
   "cell_type": "code",
   "execution_count": 2,
   "metadata": {},
   "outputs": [
    {
     "name": "stdout",
     "output_type": "stream",
     "text": [
      "[0, 1, 4, 9, 16]\n"
     ]
    }
   ],
   "source": [
    "list_data = [ x**2 for x in range(5)]\n",
    "print(list_data)\n"
   ]
  },
  {
   "cell_type": "code",
   "execution_count": 4,
   "metadata": {},
   "outputs": [
    {
     "name": "stdout",
     "output_type": "stream",
     "text": [
      "all_data== [[1, 10], [2, 15], [3, 30], [4, 55]]\n",
      "x_data== [1, 2, 3, 4]\n",
      "y_data== [10, 15, 30, 55]\n"
     ]
    }
   ],
   "source": [
    "raw_data = [[1, 10], [2, 15], [3, 30], [4, 55]]\n",
    "\n",
    "all_data = [x for x in raw_data]\n",
    "x_data = [x[0] for x in raw_data]\n",
    "y_data = [x[1] for x in raw_data]\n",
    "\n",
    "print(\"all_data==\", all_data)\n",
    "print(\"x_data==\", x_data)\n",
    "print(\"y_data==\", y_data)"
   ]
  },
  {
   "cell_type": "code",
   "execution_count": 1,
   "metadata": {},
   "outputs": [
    {
     "data": {
      "text/plain": [
       "[0, 2, 4, 6, 8]"
      ]
     },
     "execution_count": 1,
     "metadata": {},
     "output_type": "execute_result"
    }
   ],
   "source": [
    "#list comprehension을 이용하여 0 ~ 10 짝수 출력\n",
    "even_number = [data for data in range(10) if data%2==0]\n",
    "even_number"
   ]
  },
  {
   "cell_type": "code",
   "execution_count": 6,
   "metadata": {},
   "outputs": [
    {
     "data": {
      "text/plain": [
       "[[0, 0], [1, 0], [2, 0], [3, 0], [4, 0]]"
      ]
     },
     "execution_count": 6,
     "metadata": {},
     "output_type": "execute_result"
    }
   ],
   "source": [
    "#list comprehension 추가 예시\n",
    "test1 =[[data, 0] for data in range(5)]\n",
    "test1\n",
    "        "
   ]
  },
  {
   "cell_type": "code",
   "execution_count": 7,
   "metadata": {},
   "outputs": [
    {
     "data": {
      "text/plain": [
       "[[0, 0],\n",
       " [1, 0],\n",
       " [2, 0],\n",
       " [3, 0],\n",
       " [4, 0],\n",
       " [5, 0],\n",
       " [6, 0],\n",
       " [7, 0],\n",
       " [8, 0],\n",
       " [9, 0]]"
      ]
     },
     "execution_count": 7,
     "metadata": {},
     "output_type": "execute_result"
    }
   ],
   "source": [
    "#list comprehension 추가 예시\n",
    "test1 =[[data, 0] for data in range(10)] #위 와 동일한 코드인데 range안의 수만 10으로 바뀌었는데 10이면 개행 들어감 \n",
    "test1"
   ]
  },
  {
   "cell_type": "code",
   "execution_count": 8,
   "metadata": {},
   "outputs": [
    {
     "data": {
      "text/plain": [
       "[[0, 0], [1, 0], [2, 0], [3, 0], [4, 0], [5, 0]]"
      ]
     },
     "execution_count": 8,
     "metadata": {},
     "output_type": "execute_result"
    }
   ],
   "source": [
    "#list comprehension 추가 예시\n",
    "test1 =[[data, 0] for data in range(6)] \n",
    "test1"
   ]
  },
  {
   "cell_type": "code",
   "execution_count": 9,
   "metadata": {},
   "outputs": [
    {
     "data": {
      "text/plain": [
       "[[0, 0], [1, 0], [2, 0], [3, 0], [4, 0], [5, 0], [6, 0]]"
      ]
     },
     "execution_count": 9,
     "metadata": {},
     "output_type": "execute_result"
    }
   ],
   "source": [
    "#list comprehension 추가 예시\n",
    "test1 =[[data, 0] for data in range(7)]  \n",
    "test1"
   ]
  },
  {
   "cell_type": "code",
   "execution_count": 10,
   "metadata": {},
   "outputs": [
    {
     "data": {
      "text/plain": [
       "[[0, 0], [1, 0], [2, 0], [3, 0], [4, 0], [5, 0], [6, 0], [7, 0]]"
      ]
     },
     "execution_count": 10,
     "metadata": {},
     "output_type": "execute_result"
    }
   ],
   "source": [
    "#list comprehension 추가 예시\n",
    "test1 =[[data, 0] for data in range(8)] \n",
    "test1"
   ]
  },
  {
   "cell_type": "code",
   "execution_count": 11,
   "metadata": {},
   "outputs": [
    {
     "data": {
      "text/plain": [
       "[[0, 0], [1, 0], [2, 0], [3, 0], [4, 0], [5, 0], [6, 0], [7, 0], [8, 0]]"
      ]
     },
     "execution_count": 11,
     "metadata": {},
     "output_type": "execute_result"
    }
   ],
   "source": [
    "#list comprehension 추가 예시\n",
    "test1 =[[data, 0] for data in range(9)] \n",
    "test1"
   ]
  },
  {
   "cell_type": "code",
   "execution_count": 12,
   "metadata": {},
   "outputs": [
    {
     "name": "stdout",
     "output_type": "stream",
     "text": [
      "\n"
     ]
    }
   ],
   "source": [
    "print()"
   ]
  },
  {
   "cell_type": "code",
   "execution_count": 14,
   "metadata": {},
   "outputs": [
    {
     "data": {
      "text/plain": [
       "[(0, 0), (1, 0), (2, 0), (3, 0), (4, 0), (5, 0), (6, 0), (7, 0), (8, 0)]"
      ]
     },
     "execution_count": 14,
     "metadata": {},
     "output_type": "execute_result"
    }
   ],
   "source": [
    "#list comprehension 추가 예시\n",
    "test1 =[(data, 0) for data in range(9)] #tuple도 생성\n",
    "test1"
   ]
  },
  {
   "cell_type": "code",
   "execution_count": 19,
   "metadata": {},
   "outputs": [
    {
     "name": "stdout",
     "output_type": "stream",
     "text": [
      "[{0}, {0, 1}, {0, 2}, {0, 3}, {0, 4}, {0, 5}, {0, 6}, {0, 7}, {8, 0}]\n",
      "{0}\n",
      "\n",
      "\n",
      "[{0, '0'}, {0, '1'}, {'2', 0}, {0, '3'}, {0, '4'}, {'5', 0}, {0, '6'}, {0, '7'}, {'8', 0}]\n",
      "{0, '0'}\n"
     ]
    }
   ],
   "source": [
    "#list comprehension 추가 예시\n",
    "test1 =[{data, 0} for data in range(9)] \n",
    "print(test1)\n",
    "print(test1[0])\n",
    "\n",
    "\n",
    "print()\n",
    "print()\n",
    "\n",
    "\n",
    "#list comprehension 추가 예시\n",
    "test1 =[{str(data), 0} for data in range(9)] \n",
    "print(test1)\n",
    "print(test1[0])"
   ]
  },
  {
   "cell_type": "code",
   "execution_count": 20,
   "metadata": {},
   "outputs": [
    {
     "name": "stdout",
     "output_type": "stream",
     "text": [
      "[[0, 0], [1, 1], [2, 4], [3, 9], [4, 16]]\n"
     ]
    }
   ],
   "source": [
    "#list comprehension 추가 예시2\n",
    "test2 =[[data, data*data] for data in range(5)] \n",
    "print(test2)\n",
    "\n"
   ]
  },
  {
   "cell_type": "code",
   "execution_count": 22,
   "metadata": {},
   "outputs": [
    {
     "name": "stdout",
     "output_type": "stream",
     "text": [
      "[[0, 0], [2, 4], [4, 8], [6, 12], [8, 16]]\n"
     ]
    }
   ],
   "source": [
    "#list comprehension 추가 예시3\n",
    "test3 =[[data, 2*data] for data in range(10) if data%2==0] \n",
    "print(test3)"
   ]
  },
  {
   "cell_type": "code",
   "execution_count": null,
   "metadata": {},
   "outputs": [],
   "source": []
  }
 ],
 "metadata": {
  "kernelspec": {
   "display_name": "Python 3",
   "language": "python",
   "name": "python3"
  },
  "language_info": {
   "codemirror_mode": {
    "name": "ipython",
    "version": 3
   },
   "file_extension": ".py",
   "mimetype": "text/x-python",
   "name": "python",
   "nbconvert_exporter": "python",
   "pygments_lexer": "ipython3",
   "version": "3.7.6"
  }
 },
 "nbformat": 4,
 "nbformat_minor": 4
}
