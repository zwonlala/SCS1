{
 "cells": [
  {
   "cell_type": "code",
   "execution_count": 1,
   "metadata": {},
   "outputs": [
    {
     "data": {
      "text/plain": [
       "'7'"
      ]
     },
     "execution_count": 1,
     "metadata": {},
     "output_type": "execute_result"
    }
   ],
   "source": [
    "a = 'A73,Cd'\n",
    "a[1]"
   ]
  },
  {
   "cell_type": "code",
   "execution_count": 3,
   "metadata": {},
   "outputs": [
    {
     "data": {
      "text/plain": [
       "'A73,CdEFG, EFG'"
      ]
     },
     "execution_count": 3,
     "metadata": {},
     "output_type": "execute_result"
    }
   ],
   "source": [
    "a = a + ', EFG'\n",
    "a"
   ]
  },
  {
   "cell_type": "code",
   "execution_count": 4,
   "metadata": {},
   "outputs": [
    {
     "data": {
      "text/plain": [
       "['A73', 'CdEFG', ' EFG']"
      ]
     },
     "execution_count": 4,
     "metadata": {},
     "output_type": "execute_result"
    }
   ],
   "source": [
    "b = a.split(',')\n",
    "b"
   ]
  },
  {
   "cell_type": "code",
   "execution_count": 5,
   "metadata": {},
   "outputs": [
    {
     "name": "stdout",
     "output_type": "stream",
     "text": [
      "apple-orange-grape\n"
     ]
    }
   ],
   "source": [
    "delimiter = '-'\n",
    "new_str = delimiter.join(['apple', 'orange', 'grape'])\n",
    "print(new_str)"
   ]
  },
  {
   "cell_type": "code",
   "execution_count": 6,
   "metadata": {},
   "outputs": [
    {
     "name": "stdout",
     "output_type": "stream",
     "text": [
      "apple, orage, grape\n"
     ]
    }
   ],
   "source": [
    "delimiter = ', '\n",
    "new_str = delimiter.join(['apple', 'orage', 'grape'])\n",
    "print(new_str)"
   ]
  },
  {
   "cell_type": "code",
   "execution_count": 8,
   "metadata": {},
   "outputs": [
    {
     "name": "stdout",
     "output_type": "stream",
     "text": [
      "apple, orage, grape\n"
     ]
    }
   ],
   "source": [
    "delimiter = ', '\n",
    "new_str = delimiter.join(('apple', 'orage', 'grape')) #tuple도 동일하게 join() 가능\n",
    "print(new_str)"
   ]
  },
  {
   "cell_type": "code",
   "execution_count": 19,
   "metadata": {},
   "outputs": [
    {
     "name": "stdout",
     "output_type": "stream",
     "text": [
      "{'apple': 1, 'orage': 2, 'grape': 3}\n",
      "apple, orage, grape\n"
     ]
    }
   ],
   "source": [
    "delimiter = ', '\n",
    "print({'apple':1, 'orage':2, 'grape':3})\n",
    "new_str = delimiter.join({'apple':1, 'orage':2, 'grape':3}) #dict도 동일하게 join() 가능!!\n",
    "print(new_str)"
   ]
  },
  {
   "cell_type": "code",
   "execution_count": 17,
   "metadata": {},
   "outputs": [
    {
     "name": "stdout",
     "output_type": "stream",
     "text": [
      "dict_keys(['apple', 'orage', 'grape'])\n",
      "apple, orage, grape\n"
     ]
    }
   ],
   "source": [
    "delimiter = ', '\n",
    "print({'apple':1, 'orage':2, 'grape':3}.keys())\n",
    "new_str = delimiter.join({'apple':1, 'orage':2, 'grape':3}.keys()) #dict.keys()도 동일하게 join() 가능!!\n",
    "print(new_str)"
   ]
  },
  {
   "cell_type": "code",
   "execution_count": 21,
   "metadata": {},
   "outputs": [
    {
     "name": "stdout",
     "output_type": "stream",
     "text": [
      "dict_values([1, 2, 3])\n"
     ]
    }
   ],
   "source": [
    "delimiter = ', '\n",
    "new_dict_value = {'apple':1, 'orage':2, 'grape':3}.values()\n",
    "print(new_dict_value)\n",
    "# new_str = delimiter.join(new_dict_value) #dict.values()는 join() 불가능!!!!!!!!!!!!!!!!!!\n",
    "# print(new_str)"
   ]
  },
  {
   "cell_type": "code",
   "execution_count": 23,
   "metadata": {},
   "outputs": [
    {
     "name": "stdout",
     "output_type": "stream",
     "text": [
      "dict_items([('apple', 1), ('orage', 2), ('grape', 3)])\n",
      "apple, orage, grape\n"
     ]
    }
   ],
   "source": [
    "delimiter = ', '\n",
    "new_dict_items = {'apple':1, 'orage':2, 'grape':3}.items()\n",
    "print(new_dict_items)\n",
    "# new_str = delimiter.join(new_dict_items) #dict.items()도 join() 불가능!!!!!!!!!!!!!!!!!!\n",
    "print(new_str)"
   ]
  },
  {
   "cell_type": "code",
   "execution_count": null,
   "metadata": {},
   "outputs": [],
   "source": []
  }
 ],
 "metadata": {
  "kernelspec": {
   "display_name": "Python 3",
   "language": "python",
   "name": "python3"
  },
  "language_info": {
   "codemirror_mode": {
    "name": "ipython",
    "version": 3
   },
   "file_extension": ".py",
   "mimetype": "text/x-python",
   "name": "python",
   "nbconvert_exporter": "python",
   "pygments_lexer": "ipython3",
   "version": "3.7.6"
  }
 },
 "nbformat": 4,
 "nbformat_minor": 4
}
