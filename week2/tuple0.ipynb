{
 "cells": [
  {
   "cell_type": "code",
   "execution_count": 4,
   "metadata": {},
   "outputs": [
    {
     "name": "stdout",
     "output_type": "stream",
     "text": [
      "a[0]== 10\n",
      "a[-2]== 40\n",
      "a[:]== (10, 20, 30, 40, 50)\n",
      "a[0:2]== (10, 20)\n",
      "a[1:]== (20, 30, 40, 50)\n",
      "\n",
      "a[-6:]== (10, 20, 30, 40, 50)\n",
      "a[-2:-5]== ()\n",
      "a[3:1]== ()\n"
     ]
    }
   ],
   "source": [
    "a = (10, 20, 30, 40, 50)\n",
    "\n",
    "print(\"a[0]==\", a[0]) #해당 index의 값 출력하면() 없이 값만 나옴\n",
    "print(\"a[-2]==\", a[-2])\n",
    "print(\"a[:]==\", a[:])\n",
    "print(\"a[0:2]==\", a[0:2])\n",
    "print(\"a[1:]==\", a[1:])\n",
    "\n",
    "# a[0] = 100 #tuple의 값 변경하려고 하면 TypeError 남\n",
    "\n",
    "print()\n",
    "print(\"a[-6:]==\", a[-6:]) #slicing은 없는 인덱스 부터 접근해도 존재하는 index는 출력함\n",
    "print(\"a[-2:-5]==\", a[-2:-5]) #slicing은 인덱스 순서 반대로 하면 출력안함\n",
    "print(\"a[3:1]==\", a[3:1])  #slicing은 인덱스 순서 반대로 하면 출력안함22\n",
    "\n",
    "\n"
   ]
  },
  {
   "cell_type": "code",
   "execution_count": null,
   "metadata": {},
   "outputs": [],
   "source": []
  }
 ],
 "metadata": {
  "kernelspec": {
   "display_name": "Python 3",
   "language": "python",
   "name": "python3"
  },
  "language_info": {
   "codemirror_mode": {
    "name": "ipython",
    "version": 3
   },
   "file_extension": ".py",
   "mimetype": "text/x-python",
   "name": "python",
   "nbconvert_exporter": "python",
   "pygments_lexer": "ipython3",
   "version": "3.7.6"
  }
 },
 "nbformat": 4,
 "nbformat_minor": 4
}
