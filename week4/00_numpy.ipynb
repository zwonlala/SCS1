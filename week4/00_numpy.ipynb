{
 "cells": [
  {
   "cell_type": "code",
   "execution_count": 1,
   "metadata": {},
   "outputs": [
    {
     "name": "stdout",
     "output_type": "stream",
     "text": [
      "[1 2 3]\n",
      "(3,)\n",
      "1\n"
     ]
    }
   ],
   "source": [
    "import numpy as np\n",
    "\n",
    "A = np.array([1, 2, 3])\n",
    "print(A)\n",
    "print(A.shape)\n",
    "print(A.ndim)"
   ]
  },
  {
   "cell_type": "code",
   "execution_count": 2,
   "metadata": {},
   "outputs": [
    {
     "name": "stdout",
     "output_type": "stream",
     "text": [
      "A+B= [5 7 9]\n",
      "A-B= [-3 -3 -3]\n",
      "A*B= [ 4 10 18]\n",
      "A/B= [0.25 0.4  0.5 ]\n",
      "A%B= [1 2 3]\n",
      "A**B= [  1  32 729]\n"
     ]
    }
   ],
   "source": [
    "B = np.array([4, 5, 6])\n",
    "print(\"A+B=\",A+B)\n",
    "print(\"A-B=\",A-B)\n",
    "print(\"A*B=\",A*B)\n",
    "print(\"A/B=\",A/B)\n",
    "print(\"A%B=\",A%B)\n",
    "print(\"A**B=\",A**B)"
   ]
  },
  {
   "cell_type": "code",
   "execution_count": 3,
   "metadata": {},
   "outputs": [
    {
     "name": "stdout",
     "output_type": "stream",
     "text": [
      "A= [[1 2 3]\n",
      " [4 5 6]]\n",
      "A.shape= (2, 3)\n",
      "A.ndim= 2\n"
     ]
    }
   ],
   "source": [
    "A = np.array([[1, 2, 3], [4, 5, 6]])\n",
    "print(\"A=\", A)\n",
    "print(\"A.shape=\", A.shape)\n",
    "print(\"A.ndim=\", A.ndim)"
   ]
  },
  {
   "cell_type": "code",
   "execution_count": 5,
   "metadata": {},
   "outputs": [
    {
     "name": "stdout",
     "output_type": "stream",
     "text": [
      "C= [1 2 3]\n",
      "C.shpae= (3,)\n",
      "C.ndim= 1\n"
     ]
    }
   ],
   "source": [
    "C = np.array([1, 2, 3,])\n",
    "print(\"C=\", C)\n",
    "print(\"C.shpae=\", C.shape)\n",
    "print(\"C.ndim=\", C.ndim)"
   ]
  },
  {
   "cell_type": "code",
   "execution_count": 8,
   "metadata": {},
   "outputs": [
    {
     "name": "stdout",
     "output_type": "stream",
     "text": [
      "C= [1 2 3]\n",
      "C.shpae= (3,)\n",
      "C.ndim= 1\n"
     ]
    }
   ],
   "source": [
    "C = np.array([1, 2, 3])\n",
    "C.reshape(3,1)\n",
    "print(\"C=\", C)\n",
    "print(\"C.shpae=\", C.shape)\n",
    "print(\"C.ndim=\", C.ndim)"
   ]
  },
  {
   "cell_type": "code",
   "execution_count": 9,
   "metadata": {},
   "outputs": [
    {
     "name": "stdout",
     "output_type": "stream",
     "text": [
      "C= [[1]\n",
      " [2]\n",
      " [3]]\n",
      "C.shpae= (3, 1)\n",
      "C.ndim= 2\n"
     ]
    }
   ],
   "source": [
    "C = np.array([1, 2, 3])\n",
    "C = C.reshape(3,1)\n",
    "print(\"C=\", C)\n",
    "print(\"C.shpae=\", C.shape)\n",
    "print(\"C.ndim=\", C.ndim)"
   ]
  },
  {
   "cell_type": "code",
   "execution_count": null,
   "metadata": {},
   "outputs": [],
   "source": []
  }
 ],
 "metadata": {
  "kernelspec": {
   "display_name": "Python 3",
   "language": "python",
   "name": "python3"
  },
  "language_info": {
   "codemirror_mode": {
    "name": "ipython",
    "version": 3
   },
   "file_extension": ".py",
   "mimetype": "text/x-python",
   "name": "python",
   "nbconvert_exporter": "python",
   "pygments_lexer": "ipython3",
   "version": "3.7.6"
  }
 },
 "nbformat": 4,
 "nbformat_minor": 4
}
