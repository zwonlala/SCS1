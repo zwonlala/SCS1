{
 "cells": [
  {
   "cell_type": "code",
   "execution_count": 1,
   "metadata": {},
   "outputs": [
    {
     "name": "stdout",
     "output_type": "stream",
     "text": [
      "A== [1 2 3 4 5 6] A.shpae== (6,) A.ndim== 1\n"
     ]
    }
   ],
   "source": [
    "import numpy as np\n",
    "\n",
    "A = np.array([1, 2, 3, 4, 5, 6])\n",
    "print(\"A==\", A, \"A.shpae==\", A.shape, \"A.ndim==\", A.ndim)"
   ]
  },
  {
   "cell_type": "code",
   "execution_count": 2,
   "metadata": {},
   "outputs": [
    {
     "name": "stdout",
     "output_type": "stream",
     "text": [
      "B== [[1 2 3 4 5 6]] B.shpae== (1, 6) B.ndim== 2\n"
     ]
    }
   ],
   "source": [
    "B = np.array([1, 2, 3, 4, 5, 6]).reshape(1, 6)\n",
    "print(\"B==\", B, \"B.shpae==\", B.shape, \"B.ndim==\", B.ndim)"
   ]
  },
  {
   "cell_type": "code",
   "execution_count": 4,
   "metadata": {},
   "outputs": [
    {
     "name": "stdout",
     "output_type": "stream",
     "text": [
      "C== [[1 2 3 4 5 6]] C.shpae== (1, 6) C.ndim== 2\n"
     ]
    }
   ],
   "source": [
    "C = np.array([1, 2, 3, 4, 5, 6], ndmin=2)\n",
    "print(\"C==\", C, \"C.shpae==\", C.shape, \"C.ndim==\", C.ndim)"
   ]
  },
  {
   "cell_type": "code",
   "execution_count": 7,
   "metadata": {},
   "outputs": [
    {
     "name": "stdout",
     "output_type": "stream",
     "text": [
      "ndmin 값 3으로 주면 어떨까?\n",
      "D== [[[1 2 3 4 5 6]]] D.shpae== (1, 1, 6) D.ndim== 3\n",
      "//ndmin 3은 배열이 아닌 텐서를 만드는 것 같고 그냥 앞뒤고 중괄호 세개 묶는 듯\n"
     ]
    }
   ],
   "source": [
    "#궁금한거 해보는 거\n",
    "print(\"ndmin 값 3으로 주면 어떨까?\")\n",
    "D = np.array([1, 2, 3, 4, 5, 6], ndmin=3)\n",
    "print(\"D==\", D, \"D.shpae==\", D.shape, \"D.ndim==\", D.ndim)\n",
    "print(\"//ndmin 3은 배열이 아닌 텐서를 만드는 것 같고 그냥 앞뒤고 중괄호 세개 묶는 듯\")"
   ]
  },
  {
   "cell_type": "code",
   "execution_count": 9,
   "metadata": {},
   "outputs": [
    {
     "name": "stdout",
     "output_type": "stream",
     "text": [
      "2차원 행렬을 주고 ndmin 값 2으로 주면 어떨까?\n",
      "E== [[1 2 3]\n",
      " [4 5 6]] E.shpae== (2, 3) E.ndim== 2\n",
      "\n",
      "//안주는 것이랑 똑같다!\n"
     ]
    }
   ],
   "source": [
    "#궁금한거 해보는 거\n",
    "print(\"2차원 행렬을 주고 ndmin 값 2으로 주면 어떨까?\")\n",
    "E = np.array([[1, 2, 3], [4, 5, 6]], ndmin=2)\n",
    "print(\"E==\", E, \"E.shpae==\", E.shape, \"E.ndim==\", E.ndim)\n",
    "print(\"\\n//안주는 것이랑 똑같다!\")"
   ]
  },
  {
   "cell_type": "code",
   "execution_count": 10,
   "metadata": {},
   "outputs": [
    {
     "name": "stdout",
     "output_type": "stream",
     "text": [
      "2차원 행렬을 주고 ndmin 값 3으로 주면 어떨까?\n",
      "F== [[[1 2 3]\n",
      "  [4 5 6]]] F.shpae== (1, 2, 3) F.ndim== 3\n",
      "\n",
      "//안주는 것이랑 똑같다!\n"
     ]
    }
   ],
   "source": [
    "#궁금한거 해보는 거\n",
    "print(\"2차원 행렬을 주고 ndmin 값 3으로 주면 어떨까?\")\n",
    "F = np.array([[1, 2, 3], [4, 5, 6]], ndmin=3)\n",
    "print(\"F==\", F, \"F.shpae==\", F.shape, \"F.ndim==\", F.ndim)\n",
    "print(\"\\n//그냥 앞 뒤로 중괄호 하나씩 더 줘서 텐서로 만드는 것 같다\")"
   ]
  },
  {
   "cell_type": "code",
   "execution_count": null,
   "metadata": {},
   "outputs": [],
   "source": []
  }
 ],
 "metadata": {
  "kernelspec": {
   "display_name": "Python 3",
   "language": "python",
   "name": "python3"
  },
  "language_info": {
   "codemirror_mode": {
    "name": "ipython",
    "version": 3
   },
   "file_extension": ".py",
   "mimetype": "text/x-python",
   "name": "python",
   "nbconvert_exporter": "python",
   "pygments_lexer": "ipython3",
   "version": "3.7.6"
  }
 },
 "nbformat": 4,
 "nbformat_minor": 4
}
