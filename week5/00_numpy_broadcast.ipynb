{
 "cells": [
  {
   "cell_type": "code",
   "execution_count": 5,
   "metadata": {},
   "outputs": [
    {
     "name": "stdout",
     "output_type": "stream",
     "text": [
      "A+b== [[6 7]\n",
      " [8 9]]\n",
      "\n",
      "A-b== [[-4 -3]\n",
      " [-2 -1]]\n",
      "\n",
      "A*b== [[ 5 10]\n",
      " [15 20]]\n",
      "\n",
      "A/b== [[0.2 0.4]\n",
      " [0.6 0.8]]\n",
      "\n",
      "A%b== [[1 2]\n",
      " [3 4]]\n",
      "\n",
      "A**b== [[   1   32]\n",
      " [ 243 1024]]\n",
      "\n",
      "// A:numpy 2차원 행렬, b = scalar\n",
      "// +, -, *, /, %, ** 모든 연산 가능!!\n"
     ]
    }
   ],
   "source": [
    "#broadcast example\n",
    "#numpy and scalar\n",
    "import numpy as np\n",
    "\n",
    "A = np.array([[1, 2], [3, 4]])\n",
    "b = 5\n",
    "\n",
    "print(\"A+b==\",A+b, end=\"\\n\\n\")\n",
    "print(\"A-b==\",A-b, end=\"\\n\\n\")\n",
    "print(\"A*b==\",A*b, end=\"\\n\\n\")\n",
    "print(\"A/b==\",A/b, end=\"\\n\\n\")\n",
    "print(\"A%b==\",A%b, end=\"\\n\\n\")\n",
    "print(\"A**b==\",A**b, end=\"\\n\\n\")\n",
    "\n",
    "print(\"// A:numpy 2차원 행렬, b = scalar\")\n",
    "print(\"// +, -, *, /, %, ** 모든 연산 가능!!\")"
   ]
  },
  {
   "cell_type": "code",
   "execution_count": 6,
   "metadata": {},
   "outputs": [
    {
     "name": "stdout",
     "output_type": "stream",
     "text": [
      "A+B== [[3 5]\n",
      " [5 7]]\n",
      "\n",
      "A-B== [[-1 -1]\n",
      " [ 1  1]]\n",
      "\n",
      "A*B== [[ 2  6]\n",
      " [ 6 12]]\n",
      "\n",
      "A/B== [[0.5        0.66666667]\n",
      " [1.5        1.33333333]]\n",
      "\n",
      "A%B== [[1 2]\n",
      " [1 1]]\n",
      "\n",
      "A**B== [[ 1  8]\n",
      " [ 9 64]]\n",
      "\n",
      "// A:numpy 2차원 행렬, B : numpy vector \n",
      "// +, -, *, /, %, ** 모든 연산 가능!!\n"
     ]
    }
   ],
   "source": [
    "#broadcast example\n",
    "#numpy array and numpy vector\n",
    "\n",
    "A = np.array([[1, 2], [3, 4]])\n",
    "B = np.array([2, 3])\n",
    "\n",
    "print(\"A+B==\",A+B, end=\"\\n\\n\")\n",
    "print(\"A-B==\",A-B, end=\"\\n\\n\")\n",
    "print(\"A*B==\",A*B, end=\"\\n\\n\")\n",
    "print(\"A/B==\",A/B, end=\"\\n\\n\")\n",
    "print(\"A%B==\",A%B, end=\"\\n\\n\")\n",
    "print(\"A**B==\",A**B, end=\"\\n\\n\")\n",
    "\n",
    "print(\"// A:numpy 2차원 행렬, B : numpy vector \")\n",
    "print(\"// +, -, *, /, %, ** 모든 연산 가능!!\")"
   ]
  },
  {
   "cell_type": "code",
   "execution_count": 7,
   "metadata": {},
   "outputs": [
    {
     "ename": "ValueError",
     "evalue": "operands could not be broadcast together with shapes (3,7) (5,) ",
     "output_type": "error",
     "traceback": [
      "\u001b[0;31m---------------------------------------------------------------------------\u001b[0m",
      "\u001b[0;31mValueError\u001b[0m                                Traceback (most recent call last)",
      "\u001b[0;32m<ipython-input-7-88b0c3e3fade>\u001b[0m in \u001b[0;36m<module>\u001b[0;34m\u001b[0m\n\u001b[1;32m      5\u001b[0m \u001b[0mB\u001b[0m \u001b[0;34m=\u001b[0m \u001b[0mnp\u001b[0m\u001b[0;34m.\u001b[0m\u001b[0marray\u001b[0m\u001b[0;34m(\u001b[0m\u001b[0;34m[\u001b[0m\u001b[0;36m1\u001b[0m\u001b[0;34m,\u001b[0m \u001b[0;36m2\u001b[0m\u001b[0;34m,\u001b[0m \u001b[0;36m3\u001b[0m\u001b[0;34m,\u001b[0m \u001b[0;36m4\u001b[0m\u001b[0;34m,\u001b[0m \u001b[0;36m5\u001b[0m\u001b[0;34m]\u001b[0m\u001b[0;34m)\u001b[0m\u001b[0;34m\u001b[0m\u001b[0;34m\u001b[0m\u001b[0m\n\u001b[1;32m      6\u001b[0m \u001b[0;34m\u001b[0m\u001b[0m\n\u001b[0;32m----> 7\u001b[0;31m \u001b[0mprint\u001b[0m\u001b[0;34m(\u001b[0m\u001b[0;34m\"A+B==\"\u001b[0m\u001b[0;34m,\u001b[0m\u001b[0mA\u001b[0m\u001b[0;34m+\u001b[0m\u001b[0mB\u001b[0m\u001b[0;34m,\u001b[0m \u001b[0mend\u001b[0m\u001b[0;34m=\u001b[0m\u001b[0;34m\"\\n\\n\"\u001b[0m\u001b[0;34m)\u001b[0m\u001b[0;34m\u001b[0m\u001b[0;34m\u001b[0m\u001b[0m\n\u001b[0m\u001b[1;32m      8\u001b[0m \u001b[0mprint\u001b[0m\u001b[0;34m(\u001b[0m\u001b[0;34m\"A-B==\"\u001b[0m\u001b[0;34m,\u001b[0m\u001b[0mA\u001b[0m\u001b[0;34m-\u001b[0m\u001b[0mB\u001b[0m\u001b[0;34m,\u001b[0m \u001b[0mend\u001b[0m\u001b[0;34m=\u001b[0m\u001b[0;34m\"\\n\\n\"\u001b[0m\u001b[0;34m)\u001b[0m\u001b[0;34m\u001b[0m\u001b[0;34m\u001b[0m\u001b[0m\n\u001b[1;32m      9\u001b[0m \u001b[0mprint\u001b[0m\u001b[0;34m(\u001b[0m\u001b[0;34m\"A*B==\"\u001b[0m\u001b[0;34m,\u001b[0m\u001b[0mA\u001b[0m\u001b[0;34m*\u001b[0m\u001b[0mB\u001b[0m\u001b[0;34m,\u001b[0m \u001b[0mend\u001b[0m\u001b[0;34m=\u001b[0m\u001b[0;34m\"\\n\\n\"\u001b[0m\u001b[0;34m)\u001b[0m\u001b[0;34m\u001b[0m\u001b[0;34m\u001b[0m\u001b[0m\n",
      "\u001b[0;31mValueError\u001b[0m: operands could not be broadcast together with shapes (3,7) (5,) "
     ]
    }
   ],
   "source": [
    "#broadcast example\n",
    "#numpy array and numpy array but size is not match\n",
    "\n",
    "A = np.array([[1, 2, 3, 4, 5, 6, 7], [7, 9, 10, 11, 12, 13, 14], [15, 16, 17, 18, 19, 20, 21]])\n",
    "B = np.array([1, 2, 3, 4, 5])\n",
    "\n",
    "print(\"A+B==\",A+B, end=\"\\n\\n\")\n",
    "print(\"A-B==\",A-B, end=\"\\n\\n\")\n",
    "print(\"A*B==\",A*B, end=\"\\n\\n\")\n",
    "print(\"A/B==\",A/B, end=\"\\n\\n\")\n",
    "print(\"A%B==\",A%B, end=\"\\n\\n\")\n",
    "print(\"A**B==\",A**B, end=\"\\n\\n\")\n",
    "\n",
    "print(\"// A:numpy 2차원 행렬, B : numpy vector \")\n",
    "print(\"// +, -, *, /, %, ** 모든 연산 가능!!\")"
   ]
  },
  {
   "cell_type": "code",
   "execution_count": null,
   "metadata": {},
   "outputs": [],
   "source": []
  }
 ],
 "metadata": {
  "kernelspec": {
   "display_name": "Python 3",
   "language": "python",
   "name": "python3"
  },
  "language_info": {
   "codemirror_mode": {
    "name": "ipython",
    "version": 3
   },
   "file_extension": ".py",
   "mimetype": "text/x-python",
   "name": "python",
   "nbconvert_exporter": "python",
   "pygments_lexer": "ipython3",
   "version": "3.7.6"
  }
 },
 "nbformat": 4,
 "nbformat_minor": 4
}
