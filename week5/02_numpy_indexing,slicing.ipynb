{
 "cells": [
  {
   "cell_type": "code",
   "execution_count": 4,
   "metadata": {},
   "outputs": [
    {
     "name": "stdout",
     "output_type": "stream",
     "text": [
      "A[0, 0]== 10\n",
      "A[0][0]== 10\n",
      "A[2, 1]== 60\n",
      "A[2][1]== 60\n",
      "A[:, 0]== [10 30 50]\n",
      "A[0]== [10 20]\n",
      "A[0:-1, 1:2]== [[20]\n",
      " [40]]\n"
     ]
    }
   ],
   "source": [
    "import numpy as np\n",
    "\n",
    "A = np.array([10, 20, 30, 40, 50, 60]).reshape(3,2)\n",
    "\n",
    "print(\"A[0, 0]==\", A[0, 0])\n",
    "print(\"A[0][0]==\", A[0][0])\n",
    "\n",
    "print(\"A[2, 1]==\", A[2, 1])\n",
    "print(\"A[2][1]==\", A[2][1])\n",
    "\n",
    "print(\"A[0]==\", A[0])\n",
    "\n",
    "# print(\"??? A[, 0]==\", A[, 0])\n",
    "\n",
    "print(\"A[0:-1, 1:2]==\", A[0:-1, 1:2])"
   ]
  },
  {
   "cell_type": "code",
   "execution_count": 5,
   "metadata": {},
   "outputs": [
    {
     "name": "stdout",
     "output_type": "stream",
     "text": [
      "A[:, 0]== [10 30 50]\n",
      "A[0:-1, 1:2]== [[20]\n",
      " [40]]\n"
     ]
    }
   ],
   "source": [
    "print(\"A[:, 0]==\", A[:, 0])\n",
    "print(\"A[0:-1, 1:2]==\", A[0:-1, 1:2])"
   ]
  },
  {
   "cell_type": "code",
   "execution_count": 7,
   "metadata": {},
   "outputs": [
    {
     "name": "stdout",
     "output_type": "stream",
     "text": [
      "A[:, 1:2]== [[20]\n",
      " [40]\n",
      " [60]]\n"
     ]
    }
   ],
   "source": [
    "print(\"A[:, 1:2]==\", A[:, 1:2])"
   ]
  },
  {
   "cell_type": "code",
   "execution_count": 8,
   "metadata": {},
   "outputs": [
    {
     "name": "stdout",
     "output_type": "stream",
     "text": [
      "A[0, :]== [10 20]\n"
     ]
    }
   ],
   "source": [
    "print(\"A[0, :]==\", A[0, :])"
   ]
  },
  {
   "cell_type": "code",
   "execution_count": null,
   "metadata": {},
   "outputs": [],
   "source": []
  }
 ],
 "metadata": {
  "kernelspec": {
   "display_name": "Python 3",
   "language": "python",
   "name": "python3"
  },
  "language_info": {
   "codemirror_mode": {
    "name": "ipython",
    "version": 3
   },
   "file_extension": ".py",
   "mimetype": "text/x-python",
   "name": "python",
   "nbconvert_exporter": "python",
   "pygments_lexer": "ipython3",
   "version": "3.7.6"
  }
 },
 "nbformat": 4,
 "nbformat_minor": 4
}
